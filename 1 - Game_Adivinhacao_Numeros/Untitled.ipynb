{
 "cells": [
  {
   "cell_type": "code",
   "execution_count": 10,
   "id": "5c482997",
   "metadata": {},
   "outputs": [],
   "source": [
    "#Importando alguns módulos\n",
    "\n",
    "import random\n",
    "import sqlite3\n",
    "import math\n"
   ]
  },
  {
   "cell_type": "markdown",
   "id": "e4dfc9f1",
   "metadata": {},
   "source": [
    "- Criando classes"
   ]
  },
  {
   "cell_type": "code",
   "execution_count": 36,
   "id": "b3ebe534",
   "metadata": {},
   "outputs": [],
   "source": [
    "class Adivinha():\n",
    "    \n",
    "    def __init__(self, limite_inf, limite_sup):\n",
    "        #Fazendo um if para previnir caso o usuário digite os limites em ordens trocadas\n",
    "        \n",
    "        if limite_inf < limite_sup:\n",
    "            self.limite_inf = limite_inf\n",
    "            self.limite_sup = limite_sup\n",
    "        else:\n",
    "            self.limite_inf = limite_sup\n",
    "            self.limite_sup = limite_inf\n",
    "        self.aleatorio = random.randint(self.limite_inf, self.limite_sup)\n",
    "        self.max_tentativas =  np.ceil(math.log(self.limite_sup - self.limite_inf + 1, 2))\n",
    "    \n",
    "    def compara_numeros(self, numero):\n",
    "        if self.aleatorio == numero: \n",
    "            print('Parabéns! Você acertou!')\n",
    "            return True\n",
    "        elif numero > self.aleatorio:\n",
    "            return 'Você chutou muito alto!'\n",
    "        else:\n",
    "            return 'Você chutou muito baixo!'\n",
    "            \n",
    "        \n",
    "        "
   ]
  },
  {
   "cell_type": "code",
   "execution_count": 37,
   "id": "f32efcd6",
   "metadata": {},
   "outputs": [
    {
     "name": "stdout",
     "output_type": "stream",
     "text": [
      "****************************************************************************************************\n",
      "                                  Bem vindo ao jogo da adivinhação                                  \n",
      "****************************************************************************************************\n"
     ]
    }
   ],
   "source": [
    "print('*'*100)\n",
    "print(' '*34 + 'Bem vindo ao jogo da adivinhação' + ' '*34)\n",
    "print('*'*100)\n"
   ]
  },
  {
   "cell_type": "code",
   "execution_count": null,
   "id": "5b6ec250",
   "metadata": {
    "scrolled": true
   },
   "outputs": [],
   "source": [
    "jogar = str(input('Deseja jogar o jogo da adivinhação (S/N)? '))"
   ]
  },
  {
   "cell_type": "code",
   "execution_count": null,
   "id": "b6f4d534",
   "metadata": {},
   "outputs": [],
   "source": [
    "#Garantindo que mesmo que o usuário digite 'S' ou 's', não irá afetar o resultado do programa\n",
    "while (True):\n",
    "        lim_inf = int(input('Digite o limite inferior para o possível número que será gerado:'))\n",
    "        lim_sup = int(input('Digite o limite superior para o possível número que será gerado:'))\n",
    "        \n",
    "        obj = Adivinha(lim_inf, lim_sup)\n",
    "        \n",
    "        for i in range(obj.max_tentativas):\n",
    "            try:\n",
    "                chute = int(input('Chute um número: '))\n",
    "                adivinha.compara_numeros(chute)\n",
    "            except:\n",
    "                print('Você digitou um número inválido e perdeu uma tentativa!')\n",
    "            else:\n",
    "                if(adivinha.compara_numeros(chute) == True):\n",
    "                    break\n",
    "                \n",
    "        \n",
    "        \n",
    " "
   ]
  },
  {
   "cell_type": "code",
   "execution_count": null,
   "id": "8845d225",
   "metadata": {},
   "outputs": [],
   "source": [
    "w"
   ]
  },
  {
   "cell_type": "code",
   "execution_count": null,
   "id": "1982ba17",
   "metadata": {},
   "outputs": [],
   "source": []
  }
 ],
 "metadata": {
  "kernelspec": {
   "display_name": "Python 3 (ipykernel)",
   "language": "python",
   "name": "python3"
  },
  "language_info": {
   "codemirror_mode": {
    "name": "ipython",
    "version": 3
   },
   "file_extension": ".py",
   "mimetype": "text/x-python",
   "name": "python",
   "nbconvert_exporter": "python",
   "pygments_lexer": "ipython3",
   "version": "3.9.7"
  }
 },
 "nbformat": 4,
 "nbformat_minor": 5
}
